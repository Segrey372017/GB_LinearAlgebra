{
  "cells":[
    {
      "cell_type":"code",
      "source":[
        "import numpy as np"
      ],
      "execution_count":2,
      "outputs":[
        
      ],
      "metadata":{
        
      }
    },
    {
      "cell_type":"markdown",
      "source":[
        "<h2> Методичка 1<\/h2>\n",
        "<h3> Задача1 <\/h3>\n",
        "<p> 1. Исследовать на линейную зависимость:\n",
        "$f1(x)=e^x,f2(x)=1,f3(x)=x+1,f4(x)=x−e^x $. <\/p>"
      ],
      "metadata":{
        
      }
    },
    {
      "cell_type":"markdown",
      "source":[
        "Функцию f4 можно выразить через соотношение f1, f2 и f3:\n",
        "$ f4(x) = f3(x)-f1(x) - f2(x)= x+1 - e^x - 1= x- e^x $\n",
        "\n",
        "Функцию f3 также можно выразить через f4, f1, f2:\n",
        "\n",
        "$ f3(x) = f4(x)+f1(x)+f2(x) = x - e^x + e^x + 1 = x+1 $\n",
        "\n",
        "Функцию f2 выразить через f3,f4 и f1:\n",
        "\n",
        "$ f2(x) = f3(x)-f4(x)+f1(x) = x + 1 - x + e^x - e^x = 1$\n",
        "\n",
        "Функцию f1 выразить через f2, f3 и f4:\n",
        "$f1(x) = f3(x) - f2(x) - f4(x) = x + 1 - 1 - x + e^x = e^x$\n",
        "\n",
        "Ответ: Данные функции линейно зависимые"
      ],
      "metadata":{
        
      }
    },
    {
      "cell_type":"markdown",
      "source":[
        "<h3> Задача2 <\/h3>\n",
        "<p> Исследовать на линейную зависимость:\n",
        "$f1(x)=2,f2(x)=x,f3(x)=x^2,f4(x)=(x+1)^2 $<\/p>"
      ],
      "metadata":{
        
      }
    },
    {
      "cell_type":"markdown",
      "source":[
        "Преобразуем выражение в функции f4 по формуле квадрата суммы $ (a+b)^2 = a^2 + 2ab + c^2 $: <br>\n",
        "$f4(x) = x^2 + 2x + 1^2 = x^2 + 2x+ 1 $\n",
        "\n",
        "Попытаемся выразить функцию f1 через комбинацию f2,f3,f4:\n",
        "f1(x) =  f4(x) - f3(x) - f2(x) = x^2 + 2x + 1 - x^2 - x = 2x + 1 - x \n",
        "\n",
        "Вывод: Функции линейно независимые"
      ],
      "metadata":{
        
      }
    },
    {
      "cell_type":"markdown",
      "source":[
        "<h3> Задача3 <\/h3>\n",
        "<p> Найти координаты вектора  x=(2,3,5)∈R3  в базисе  b1=(0,0,10) ,  b2=(2,0,0) ,  b3=(0,1,0) .<\/p>"
      ],
      "metadata":{
        
      }
    },
    {
      "cell_type":"markdown",
      "source":[
        "Преобразуем x = (2, 3, 5) = (2, 0 , 0) + (0, 3, 0) + (0, 5, 0), тогда\n",
        "x = 1*b2 + 3*b3 + 1\/2*b1 \n",
        "Проверка: 1 * (2, 0, 0) + 3 * (0, 1, 0) + 1\/2* (0,0, 10)  = (2,0,0)+(0,3,0)+(0,0,5) = (2,3,5)"
      ],
      "metadata":{
        
      }
    },
    {
      "cell_type":"markdown",
      "source":[
        "<h4> Задача4 <\/h4>\n",
        "<p> 4. Найти координаты вектора  $3x^2−2x+2∈R3[x]$ :\n",
        "\n",
        "а) в базисе  1 ,  x ,  x2 ;\n",
        "\n",
        "б) в базисе  x2 ,  x−1 ,  1 .<\/p>"
      ],
      "metadata":{
        
      }
    },
    {
      "cell_type":"markdown",
      "source":[
        "a) Перепишем выражение по возрастанию степени:$ 3*x^2-2*x+3 = 2 -2x + 3x^2:\n",
        " Тогда вектор x в базисе (1,x, x^2) примет вид: (2, -2, 3)\n",
        "\n",
        "б) x в базисе (x^2, x-1, 1) примет вид (3*x^2, -2*(x-1) - 2 , 3 *1)"
      ],
      "metadata":{
        
      }
    },
    {
      "cell_type":"markdown",
      "source":[
        "<h4> Задача5 <\/h4>\n",
        "<p> 5. Установить, является ли линейным подпространством:\n",
        "\n",
        "а) совокупность всех векторов трехмерного пространства, у которых по крайней мере одна из первых двух координат равна нулю;\n",
        "\n",
        "б) все векторы, являющиеся линейными комбинациями данных векторов  {u1,u2,…,un} ."
      ],
      "metadata":{
        
      }
    },
    {
      "cell_type":"code",
      "source":[
        
      ],
      "execution_count":0,
      "outputs":[
        
      ],
      "metadata":{
        
      }
    },
    {
      "cell_type":"markdown",
      "source":[
        "\n",
        "<h2> Методичка 2<\/h2>\n",
        "<h3> Задача1 <\/h3>\n",
        "<p> 1. . Найти скалярное произведение векторов $ x,y∈R $: <br>\n",
        "<ul>  <li> а)  x=(0,−3,6), y=(−4,7,9); <\/li>\n",
        "<li> б)  x=(7,−4,0,1), y=(−3,1,11,2).<\/li>  <\/ul><\/p>"
      ],
      "metadata":{
        
      }
    },
    {
      "cell_type":"markdown",
      "source":[
        "а) x (0, -3, 6) * y(-4, 7, 9) = 0 -21 + 54 = 33 <br>\n",
        "б) (7, -4, 0, 1) * (-3, 1, 11, 2 ) = -21 -4 +0 +2 = -23"
      ],
      "metadata":{
        
      }
    },
    {
      "cell_type":"code",
      "source":[
        "#Проверка\n",
        "x1 = np.array([0, -3, 6])\n",
        "y1 = np.array([-4, 7, 9])\n",
        "\n",
        "print(x1, y1)"
      ],
      "execution_count":4,
      "outputs":[
        {
          "name":"stdout",
          "text":[
            "[ 0 -3  6] [-4  7  9]\n"
          ],
          "output_type":"stream"
        }
      ],
      "metadata":{
        
      }
    },
    {
      "cell_type":"code",
      "source":[
        "print(x1.dot(y1))"
      ],
      "execution_count":6,
      "outputs":[
        {
          "name":"stdout",
          "text":[
            "33\n"
          ],
          "output_type":"stream"
        }
      ],
      "metadata":{
        
      }
    },
    {
      "cell_type":"code",
      "source":[
        "x2 = np.array([7, -4, 0, 1])\n",
        "y2 = np.array([-3, 1 , 11, 2])\n",
        "print(x2, y2)"
      ],
      "execution_count":9,
      "outputs":[
        {
          "name":"stdout",
          "text":[
            "[ 7 -4  0  1] [-3  1 11  2]\n"
          ],
          "output_type":"stream"
        }
      ],
      "metadata":{
        
      }
    },
    {
      "cell_type":"code",
      "source":[
        "# решение б)\n",
        "print(x2.dot(y2))"
      ],
      "execution_count":10,
      "outputs":[
        {
          "name":"stdout",
          "text":[
            "-23\n"
          ],
          "output_type":"stream"
        }
      ],
      "metadata":{
        
      }
    },
    {
      "cell_type":"markdown",
      "source":[
        "<h3> Задача2 <\/h3>\n",
        "<p> 2. Найти нормы векторов  (4,2,4)  и  (12,3,4)  и угол между ними.<\/p>"
      ],
      "metadata":{
        
      }
    },
    {
      "cell_type":"markdown",
      "source":[
        "a (4,2, 4) b (12, 3, 4)\n",
        "\n",
        "а) Манхэттенская норма векторов: а = 4 + 2+ 4 = 10; b = 12 + 3 +4 = 19 <br>\n",
        "б) Евклидова норма векторов a = 16 + 4 + 16 = 36; b = 144 + 9 + 16 = 169"
      ],
      "metadata":{
        
      }
    },
    {
      "cell_type":"code",
      "source":[
        "# Проверка\n",
        "a = np.array([4,2,4])\n",
        "b = np.array ([12,3,4])\n",
        "\n",
        "print('манхеттенская норма а = ',np.linalg.norm(a,1), ' b = ', np.linalg.norm(b,1))"
      ],
      "execution_count":11,
      "outputs":[
        {
          "name":"stdout",
          "text":[
            "манхеттенская норма а =  10.0  b =  19.0\n"
          ],
          "output_type":"stream"
        }
      ],
      "metadata":{
        
      }
    },
    {
      "cell_type":"code",
      "source":[
        "print('Евклидова норма а = ',np.linalg.norm(a,2), ' b = ', np.linalg.norm(b,2))"
      ],
      "execution_count":12,
      "outputs":[
        {
          "name":"stdout",
          "text":[
            "Евклидова норма а =  6.0  b =  13.0\n"
          ],
          "output_type":"stream"
        }
      ],
      "metadata":{
        
      }
    },
    {
      "cell_type":"code",
      "source":[
        "# Надем косинус уга между векторами\n",
        "\n",
        "cos_fi = np.dot(a,b) \/ (np.linalg.norm(a,2) * np.linalg.norm(b,2))"
      ],
      "execution_count":14,
      "outputs":[
        
      ],
      "metadata":{
        
      }
    },
    {
      "cell_type":"code",
      "source":[
        "print(\"Угол между векторами: \", round(np.arccos(cos_fi),2))"
      ],
      "execution_count":17,
      "outputs":[
        {
          "name":"stdout",
          "text":[
            "Угол между векторами:  0.46\n"
          ],
          "output_type":"stream"
        }
      ],
      "metadata":{
        
      }
    }
  ],
  "metadata":{
    
  },
  "nbformat":4,
  "nbformat_minor":0
}