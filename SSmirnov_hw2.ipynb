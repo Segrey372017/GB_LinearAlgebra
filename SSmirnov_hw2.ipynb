{
  "cells":[
    {
      "cell_type":"code",
      "source":[
        "import numpy as np"
      ],
      "execution_count":1,
      "outputs":[
        
      ],
      "metadata":{
        
      }
    },
    {
      "cell_type":"markdown",
      "source":[
        "<h2> Методичка 3<\/h2>\n",
        "<h3> Задача1<\/h3>\n",
        "\n",
        "<p> Установить, какие произведения матриц AB и BA определены, и найти размерности полученных матриц:\n",
        "\n",
        "а) A — матрица 4×2, B — матрица 4×2;\n",
        "\n",
        "б) A — матрица 2×5, B — матрица 5×3;\n",
        "\n",
        "в) A — матрица 8×3, B — матрица 3×8;\n",
        "\n",
        "г) A — квадратная матрица 4×4, B — квадратная матрица 4×4.<\/p>"
      ],
      "metadata":{
        
      }
    },
    {
      "cell_type":"code",
      "source":[
        "# a) перемножение невозможно количество столбцов матрицы А не равно количеству строк B\n",
        "# проверка\n",
        "A = np.ones((4,2))\n",
        "B = np.ones((4,2))\n",
        "try:\n",
        "    C = A.dot(B)\n",
        "except:\n",
        "    print('ошибка несоответсвие форм матриц')"
      ],
      "execution_count":2,
      "outputs":[
        {
          "name":"stdout",
          "text":[
            "ошибка несоответсвие форм матриц\n"
          ],
          "output_type":"stream"
        }
      ],
      "metadata":{
        
      }
    },
    {
      "cell_type":"code",
      "source":[
        "# б) перемножение возможно, форма матрицы 2х3\n",
        "A = np.ones((2,5))\n",
        "B = np.ones((5,3))\n",
        "\n",
        "C = A.dot(B)\n",
        "try:\n",
        "    C = A.dot(B)\n",
        "except :\n",
        "    print('ошибка несоответсвие форм матриц')\n",
        "print(C.shape, 'форма матрицы')"
      ],
      "execution_count":3,
      "outputs":[
        {
          "name":"stdout",
          "text":[
            "(2, 3) форма матрицы\n"
          ],
          "output_type":"stream"
        }
      ],
      "metadata":{
        
      }
    },
    {
      "cell_type":"code",
      "source":[
        "# г) перемножение матриц возможно условие соблюдается? форма матрицы 4х4\n",
        "A = np.ones((4,4))\n",
        "B = np.ones((4,4))\n",
        "\n",
        "C = A.dot(B)\n",
        "try:\n",
        "    C = A.dot(B)\n",
        "except :\n",
        "    print('ошибка несоответсвие форм матриц')\n",
        "print(C.shape, 'форма матрицы')"
      ],
      "execution_count":4,
      "outputs":[
        {
          "name":"stdout",
          "text":[
            "(4, 4) форма матрицы\n"
          ],
          "output_type":"stream"
        }
      ],
      "metadata":{
        
      }
    },
    {
      "cell_type":"markdown",
      "source":[
        "<h3> Задача2<\/h3>\n",
        "\n",
        "<p> Найти сумму и произведение матриц $$A=\\begin{pmatrix}\n",
        "1 & -2\\\\ \n",
        "3 & 0\n",
        "\\end{pmatrix} и B=\\begin{pmatrix}\n",
        "4 & -1\\\\ \n",
        "0 & 5\n",
        "\\end{pmatrix}.$$.<\/p>"
      ],
      "metadata":{
        
      }
    },
    {
      "cell_type":"code",
      "source":[
        "# Сумма матриц - матрица С = [ [5, -3], [3,5]]\n",
        "# проверка\n",
        "A = np.array([[1,-2], [3, 0]])\n",
        "B = np.array([[4,-1], [0, 5]])\n",
        "\n",
        "print(A+B, 'сумма матриц')"
      ],
      "execution_count":5,
      "outputs":[
        {
          "name":"stdout",
          "text":[
            "[[ 5 -3]\n",
            " [ 3  5]] сумма матриц\n"
          ],
          "output_type":"stream"
        }
      ],
      "metadata":{
        
      }
    },
    {
      "cell_type":"code",
      "source":[
        "# Произведение матриц:\n",
        "# C11 = 1*4 + (-2)*0 = 4\n",
        "# C12 = 1 * (-1)+ (-2)*5 = -11\n",
        "# C21 = 3*4  + 0*0 = 12\n",
        "# C22 = 3 * (-1) + 0*5 = -3\n",
        "#  C = [[4,-11], [12, -3]]\n",
        "\n",
        "# проверка\n",
        "\n",
        "print(A.dot(B), \"Произведение матриц\")"
      ],
      "execution_count":6,
      "outputs":[
        {
          "name":"stdout",
          "text":[
            "[[  4 -11]\n",
            " [ 12  -3]] Произведение матриц\n"
          ],
          "output_type":"stream"
        }
      ],
      "metadata":{
        
      }
    },
    {
      "cell_type":"markdown",
      "source":[
        "<h3> Задача3<\/h3>\n",
        "\n",
        "<p> Из закономерностей сложения и умножения матриц на число можно сделать вывод, что матрицы одного размера образуют линейное пространство. Вычислить линейную комбинацию $3A-2B+4C$ для матриц $A=\\begin{pmatrix}\n",
        "1 & 7\\\\ \n",
        "3 & -6\n",
        "\\end{pmatrix}$, $B=\\begin{pmatrix}\n",
        "0 & 5\\\\ \n",
        "2 & -1\n",
        "\\end{pmatrix}$, $C=\\begin{pmatrix}\n",
        "2 & -4\\\\ \n",
        "1 & 1\n",
        "\\end{pmatrix}.$ <\/p>"
      ],
      "metadata":{
        
      }
    },
    {
      "cell_type":"code",
      "source":[
        "# Вычислим 3А = [[3,21], [9, -18]]\n",
        "# Вычислим -2B = [[0,-10], [-4, 2]]\n",
        "# Вычислим -4C = [[8,-16], [4, 4]]\n",
        "# Вычислим 3A - 2B = [[3,11],[5,-16]]\n",
        "# Вычислим 3А-2B + 4C = [[11,-5], [9, -12]]\n",
        "\n",
        "# Проверка\n",
        "A = np.array([[1,7], [3,-6]])\n",
        "B = np.array([[0,5], [2,-1]])\n",
        "C = np.array([[2,-4], [1,1]])\n",
        "\n",
        "print(3*A-2*B+4*C)"
      ],
      "execution_count":7,
      "outputs":[
        {
          "name":"stdout",
          "text":[
            "[[ 11  -5]\n",
            " [  9 -12]]\n"
          ],
          "output_type":"stream"
        }
      ],
      "metadata":{
        
      }
    },
    {
      "cell_type":"markdown",
      "source":[
        "<h3> Задача4<\/h3>\n",
        "\n",
        "<p>  Дана матрица $A=\\begin{pmatrix}\n",
        "4 & 1\\\\ \n",
        "5 & -2\\\\ \n",
        "2 & 3\n",
        "\\end{pmatrix}$.\n",
        "Вычислить $AA^{T}$ и $A^{T}A$<\/p>"
      ],
      "metadata":{
        
      }
    },
    {
      "cell_type":"code",
      "source":[
        "# Транспонируем матрицу А\n",
        "\n",
        "A = np.array([[4,1], [5,-2], [2,3]])\n",
        "# AT = [[4,5,2], [1, -2, 3]]\n",
        "# проверка\n",
        "AT = A.T\n",
        "print(AT)"
      ],
      "execution_count":8,
      "outputs":[
        {
          "name":"stdout",
          "text":[
            "[[ 4  5  2]\n",
            " [ 1 -2  3]]\n"
          ],
          "output_type":"stream"
        }
      ],
      "metadata":{
        
      }
    },
    {
      "cell_type":"code",
      "source":[
        "# Перемножаем матрицы, результат матрица 3х3\n",
        "\n",
        "# AAT_11 = 4*4+1*1 =17\n",
        "# AAT_12 = 4*5 + 1*(-2) = 20 -2 =18\n",
        "# AAT_13 = 4 *2 + 1*3 = 8 + 2 = 11\n",
        "\n",
        "# AAT_21 = 5*4+ -2*1 =20-2 =18\n",
        "# AAT_22 = 5 * 5 + (-2) * (-2) = 25 + 4 = 29\n",
        "# AAT_23 = 5*2+(-2)*3= 10 -6 = 4\n",
        "\n",
        "# AAT_31 = 2*4+3*1=8+3=11\n",
        "# AAT_32 = 2*5+3*(-2) = 10-6= 4\n",
        "# AAT_33 = 2*2 + 3*3 = 4+9 = 13\n",
        "\n",
        "# AAT = [[17,18,10], [18,29,4], [11,4,13]]\n",
        "# Проверка\n",
        "print(np.dot(A,A.T))"
      ],
      "execution_count":9,
      "outputs":[
        {
          "name":"stdout",
          "text":[
            "[[17 18 11]\n",
            " [18 29  4]\n",
            " [11  4 13]]\n"
          ],
          "output_type":"stream"
        }
      ],
      "metadata":{
        
      }
    },
    {
      "cell_type":"code",
      "source":[
        "# Вычисляем AT * A, результа матрица размер 2х2\n",
        "\n",
        "# ATA11 = (4  5  2) * (4 5 2) = 16+25+4 = 45\n",
        "# ATA12 = (4  5  2) * (1 -2 3) = 4 -10 +6= 0\n",
        "# ATA21 = (1 -2  3) * (4 5 2) = 4 -10 +6 = 0\n",
        "# ATA22 = (1 -2  3) * (1 -2  3) = 1+4+9=14\n",
        "\n",
        "#Проверка\n",
        "print(np.dot(AT, A))"
      ],
      "execution_count":10,
      "outputs":[
        {
          "name":"stdout",
          "text":[
            "[[45  0]\n",
            " [ 0 14]]\n"
          ],
          "output_type":"stream"
        }
      ],
      "metadata":{
        
      }
    },
    {
      "cell_type":"markdown",
      "source":[
        "<h3> Задача5<\/h3>\n",
        "\n",
        "<p> Написать на Python функцию для перемножения двух произвольных матриц, не используя NumPy. <\/p>"
      ],
      "metadata":{
        
      }
    },
    {
      "cell_type":"code",
      "source":[
        "# функция скалярного умношения векторов\n",
        "def vec_dot(a,b):\n",
        "    \"\"\" Вычисляет скалярное произведение векторов a и b размерностью n\"\"\"\n",
        "\n",
        "    if len(a) == len(b) : # проверяем равенство размерностей векторов\n",
        "        v_sum = 0\n",
        "        for i in range(len(a)):\n",
        "            v_sum += a[i]*b[i]\n",
        "        return v_sum\n",
        "    else: \n",
        "        raise Exception('Ошибка! Векторы должны быть одинаковой длины')\n",
        "     "
      ],
      "execution_count":11,
      "outputs":[
        
      ],
      "metadata":{
        
      }
    },
    {
      "cell_type":"code",
      "source":[
        "# функция перемножения произвольных матриц\n",
        "\n",
        "def mat_dot(matA, matB):\n",
        "    \"\"\" Выполняет перемножение двух матриц, результат перемножения - матрица\"\"\"\n",
        "    #размерности матриц\n",
        "    m = matA.shape[0]\n",
        "    n = matB.shape[1]\n",
        "\n",
        "    # создаем матрицу результата произведения\n",
        "    matC = np.zeros((m,n))\n",
        "\n",
        "\n",
        "    if matA.shape[1] == matB.shape[0]: # проверяем возможность перемножения количество сток матрицы B равно числу столбцов матрицы A\n",
        "        for i in range(m):\n",
        "            for j in range(n):\n",
        "                matC[i,j] = vec_dot(matA[i,:], matB[:, j])\n",
        "        return matC\n",
        "    else:\n",
        "        raise  Exception('Ошибка! Не выполняется условие перемножения матриц')\n",
        "\n",
        "\n",
        " "
      ],
      "execution_count":12,
      "outputs":[
        
      ],
      "metadata":{
        
      }
    },
    {
      "cell_type":"code",
      "source":[
        "# проверка перемножение векторов\n",
        "print(vec_dot([2,2,2], [3,3,3]))\n",
        "print(np.dot([2,2,2], [3,3,3])) # результат должен совпадать"
      ],
      "execution_count":13,
      "outputs":[
        {
          "name":"stdout",
          "text":[
            "18\n",
            "18\n"
          ],
          "output_type":"stream"
        }
      ],
      "metadata":{
        
      }
    },
    {
      "cell_type":"code",
      "source":[
        "# вызываем исключение - размерность векторов\n",
        "print(vec_dot([2,2,2], [3,3]))"
      ],
      "execution_count":14,
      "outputs":[
        {
          "ename":"Exception",
          "evalue":"Exception: Ошибка! Векторы должны быть одинаковой длины",
          "traceback":[
            "\u001b[0;31m---------------------------------------------------------------------------",
            "Traceback (most recent call last)",
            "    at line 2 in <module>",
            "    at line 11 in vec_dot(a, b)",
            "Exception: Ошибка! Векторы должны быть одинаковой длины"
          ],
          "output_type":"error"
        }
      ],
      "metadata":{
        
      }
    },
    {
      "cell_type":"code",
      "source":[
        "# Проверка - перемножение матриц\n",
        "A = np.array([[1,-2], [3, 0]])\n",
        "B = np.array([[4,-1], [0, 5]])\n",
        "\n",
        "print(mat_dot(A,B))\n",
        "print(np.dot(A,B)) # результат должен совпадать"
      ],
      "execution_count":20,
      "outputs":[
        {
          "name":"stdout",
          "text":[
            "[[  4. -11.]\n",
            " [ 12.  -3.]]\n",
            "[[  4 -11]\n",
            " [ 12  -3]]\n"
          ],
          "output_type":"stream"
        }
      ],
      "metadata":{
        
      }
    },
    {
      "cell_type":"code",
      "source":[
        "# вызываем исключение размерность матриц\n",
        "A = np.ones((4,2))\n",
        "B = np.ones((4,2))\n",
        "\n",
        "print(mat_dot(A,B))"
      ],
      "execution_count":15,
      "outputs":[
        {
          "ename":"Exception",
          "evalue":"Exception: Ошибка! Не выполняется условие перемножения матриц",
          "traceback":[
            "\u001b[0;31m---------------------------------------------------------------------------",
            "Traceback (most recent call last)",
            "    at line 5 in <module>",
            "    at line 19 in mat_dot(matA, matB)",
            "Exception: Ошибка! Не выполняется условие перемножения матриц"
          ],
          "output_type":"error"
        }
      ],
      "metadata":{
        
      }
    },
    {
      "cell_type":"markdown",
      "source":[
        "<h2> Методичка 4<\/h2>\n",
        "<h3> Задача1<\/h3>\n",
        "\n",
        "<p> Вычислить определитель:\n",
        "\n",
        "   a)\n",
        "\n",
        "$$\\begin{vmatrix}\n",
        "sinx & -cosx\\\\ \n",
        "cosx & sinx\n",
        "\\end{vmatrix};$$\n",
        "\n",
        "   б)\n",
        "    \n",
        "$$\\begin{vmatrix}\n",
        "4 & 2 & 3\\\\ \n",
        "0 & 5 & 1\\\\ \n",
        "0 & 0 & 9\n",
        "\\end{vmatrix};$$\n",
        "    \n",
        "   в)\n",
        "\n",
        "$$\\begin{vmatrix}\n",
        "1 & 2 & 3\\\\ \n",
        "4 & 5 & 6\\\\ \n",
        "7 & 8 & 9\n",
        "\\end{vmatrix}.$$<\/p>"
      ],
      "metadata":{
        
      }
    },
    {
      "cell_type":"code",
      "source":[
        "# a) Вычисляется через определитель второго порядка произведение элементов главной диагонали минус произведение элементов побочной\n",
        "# detA = sinx* sinx - (-cosx)*cosx = sin(x)^2 + cos(x)^2 = 1\n",
        "# Проверка\n",
        "A = np.array([[np.sin(45), -1*np.cos(45)], [np.cos(45), np.sin(45)]])\n",
        "\n",
        "print('Определитель матрицы А', np.linalg.det(A))"
      ],
      "execution_count":16,
      "outputs":[
        {
          "name":"stdout",
          "text":[
            "Определитель матрицы А 1.0\n"
          ],
          "output_type":"stream"
        }
      ],
      "metadata":{
        
      }
    },
    {
      "cell_type":"code",
      "source":[
        "# б) Для треугольной матрицы определитель произведение чисел на главной диагонали\n",
        "# detB = 4*5*9 = 180\n",
        "# Проверка\n",
        "print(np.linalg.det([[4,2,3],[0,5,1],[0,0,9]]))"
      ],
      "execution_count":17,
      "outputs":[
        {
          "name":"stdout",
          "text":[
            "180.0\n"
          ],
          "output_type":"stream"
        }
      ],
      "metadata":{
        
      }
    },
    {
      "cell_type":"code",
      "source":[
        "# в) Вычислим через миноры:\n",
        "# detC = +(45-48) - (36-42) + (32-35) = -3 +6 -3 = 0\n",
        "# Проверка\n",
        "print(round(np.linalg.det([[1,2,3],[4,5,6], [7,8,9]]),2))"
      ],
      "execution_count":18,
      "outputs":[
        {
          "name":"stdout",
          "text":[
            "0.0\n"
          ],
          "output_type":"stream"
        }
      ],
      "metadata":{
        
      }
    },
    {
      "cell_type":"markdown",
      "source":[
        "<h3> Задача2<\/h3>\n",
        "\n",
        "<p> Определитель матрицы $A$ равен $4$. Найти:\n",
        "\n",
        "   а) $det(A^{2})$;\n",
        "    \n",
        "   б) $det(A^{T})$;\n",
        "    \n",
        "   в) $det(2A)$.<\/p>"
      ],
      "metadata":{
        
      }
    },
    {
      "cell_type":"code",
      "source":[
        "# а) Исходя из смысла определителя (объем фигуры заданной векторами матрицы), то возведение матрицы в квадрат является\n",
        "# перемножением объемов V*V = V^2.\n",
        "# Проверим на численном примере\n",
        "A = np.array([[2,2],[3,5]])\n",
        "print(round(np.linalg.det(A),2)) # Определитель должен быть равен 4"
      ],
      "execution_count":19,
      "outputs":[
        {
          "name":"stdout",
          "text":[
            "4.0\n"
          ],
          "output_type":"stream"
        }
      ],
      "metadata":{
        
      }
    },
    {
      "cell_type":"code",
      "source":[
        "# возведение в квадат матрицы A\n",
        "A2 = np.dot(A,A)\n",
        "print(A2)"
      ],
      "execution_count":20,
      "outputs":[
        {
          "name":"stdout",
          "text":[
            "[[10 14]\n",
            " [21 31]]\n"
          ],
          "output_type":"stream"
        }
      ],
      "metadata":{
        
      }
    },
    {
      "cell_type":"code",
      "source":[
        "# определитель для A^2\n",
        "print(round(np.linalg.det(A2),2)) # предположение подтвердилось"
      ],
      "execution_count":21,
      "outputs":[
        {
          "name":"stdout",
          "text":[
            "16.0\n"
          ],
          "output_type":"stream"
        }
      ],
      "metadata":{
        
      }
    },
    {
      "cell_type":"code",
      "source":[
        "# б) По свойству определителя матрицы. Для исходной матрицы и транспонированной определители одинаковые\n",
        "#Проверка\n",
        "print(round(np.linalg.det(A.T),2))"
      ],
      "execution_count":22,
      "outputs":[
        {
          "name":"stdout",
          "text":[
            "4.0\n"
          ],
          "output_type":"stream"
        }
      ],
      "metadata":{
        
      }
    },
    {
      "cell_type":"code",
      "source":[
        "# в) По свойству определителя при умножении строки (столбца) матрицы на число, определитель матрицы detA\n",
        "#увеличивается на это число. Соответственно при умножении матрицы на число (k) определитель увеличится на соотношение:\n",
        "# detkA = k^n*detA, где число строк(столбцов). Соответственно определитель det2A = 2^2*4 = 16\n",
        "#Проверка\n",
        "\n",
        "print(\"A = \", A)\n",
        "print(\"det2A \",round(np.linalg.det(2*A),2)) # результат должен быть 2^2*4 = 16\n",
        "print(\"det3A \",round(np.linalg.det(3*A),2)) # результат должен быть 3^2*4 = 36\n",
        "print(\"det9A \",round(np.linalg.det(9*A),2)) # результат должен быть 9^2*4 = 324"
      ],
      "execution_count":23,
      "outputs":[
        {
          "name":"stdout",
          "text":[
            "A =  [[2 2]\n",
            " [3 5]]\n",
            "det2A  16.0\n",
            "det3A  36.0\n",
            "det9A  324.0\n"
          ],
          "output_type":"stream"
        }
      ],
      "metadata":{
        
      }
    },
    {
      "cell_type":"markdown",
      "source":[
        "<h3> Задача3<\/h3>\n",
        "\n",
        "<p> Доказать, что матрица\n",
        "\n",
        "$$\\begin{pmatrix}\n",
        "-2 & 7 & -3\\\\ \n",
        "4 & -14 & 6\\\\ \n",
        "-3 & 7 & 13\n",
        "\\end{pmatrix}$$\n",
        "   \n",
        "вырожденная.<\/p>"
      ],
      "metadata":{
        
      }
    },
    {
      "cell_type":"code",
      "source":[
        "# Исходя из определения, вырожденная матрица - матрица определитель которой равен нулю.\n",
        "# Найдем определитель для данной матрицы\n",
        "A3 = np.array([[-2,7,-3],[4, -14, 6], [-3, 7, 13]])\n",
        "print(np.linalg.det(A3))"
      ],
      "execution_count":24,
      "outputs":[
        {
          "name":"stdout",
          "text":[
            "0.0\n"
          ],
          "output_type":"stream"
        }
      ],
      "metadata":{
        
      }
    },
    {
      "cell_type":"markdown",
      "source":[
        "<h3> Задача4<h3>\n",
        "Найти ранг матрицы:\n",
        "\n",
        "   а) $\\begin{pmatrix}\n",
        "1 & 2 & 3\\\\ \n",
        "1 & 1 & 1\\\\ \n",
        "2 & 3 & 4\n",
        "\\end{pmatrix};$\n",
        "\n",
        "   б) $\\begin{pmatrix}\n",
        "0 & 0 & 2 & 1\\\\ \n",
        "0 & 0 & 2 & 2\\\\ \n",
        "0 & 0 & 4 & 3\\\\ \n",
        "2 & 3 & 5 & 6\n",
        "\\end{pmatrix}.$"
      ],
      "metadata":{
        
      }
    },
    {
      "cell_type":"code",
      "source":[
        "# а)ранг матрицы равен 2, так как третья строка линейно зависима - сумма первой и второ строки\n",
        "# проверка\n",
        "A4 = np.array([[1,2,3], [1,1,1], [2,3,4]])\n",
        "print(\"ранг матрицы\", np.linalg.matrix_rank(A4))"
      ],
      "execution_count":25,
      "outputs":[
        {
          "name":"stdout",
          "text":[
            "ранг матрицы 2\n"
          ],
          "output_type":"stream"
        }
      ],
      "metadata":{
        
      }
    },
    {
      "cell_type":"code",
      "source":[
        "# б) Ранг матрицы равен 3, строка 3 линейно зависимая - сумма первой и второй строики\n",
        "# проверка\n",
        "\n",
        "B4 = np.array([[0,0,2,1], [0,0,2,2,], [0,0,4,3], [2,3,5,6]])\n",
        "print('Ранг матрицы', np.linalg.matrix_rank(B4))"
      ],
      "execution_count":26,
      "outputs":[
        {
          "name":"stdout",
          "text":[
            "Ранг матрицы 3\n"
          ],
          "output_type":"stream"
        }
      ],
      "metadata":{
        
      }
    }
  ],
  "metadata":{
    
  },
  "nbformat":4,
  "nbformat_minor":0
}