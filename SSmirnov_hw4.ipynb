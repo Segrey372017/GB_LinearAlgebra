{
  "cells":[
    {
      "cell_type":"code",
      "source":[
        "import numpy as np"
      ],
      "execution_count":29,
      "outputs":[
        
      ],
      "metadata":{
        
      }
    },
    {
      "cell_type":"markdown",
      "source":[
        "<h2> Методичка 6<\/h2>\n",
        "<h3> Задача1<\/h3>\n",
        "<p> Решить систему уравнений методом Гаусса:\n",
        "\n",
        "$$\\begin{cases}\n",
        "x_{1}+x_{2}-x_{3}-2x_{4}=0, \\\\\n",
        "2x_{1}+x_{2}-x_{3}+x_{4}=-2, \\\\\n",
        "x_{1}+x_{2}-3x_{3}+x_{4}=4.\n",
        "\\end{cases}$$<\/p>"
      ],
      "metadata":{
        
      }
    },
    {
      "cell_type":"code",
      "source":[
        "# Перепишем систему в присоединенную матрицу. Система является недоопределенной и имеет бесконечное число решений - общее решение\n",
        "A = np.array([[1, 1, -1, -2, 0], [2, 1, -1, 1, -2], [1, 1, -3, 1, 4]])"
      ],
      "execution_count":30,
      "outputs":[
        
      ],
      "metadata":{
        
      }
    },
    {
      "cell_type":"code",
      "source":[
        "# из 2 строки вычтем первую строку умношенную на 2\n",
        "A[1, :] -= 2*A[0, :]\n",
        "print(A)"
      ],
      "execution_count":31,
      "outputs":[
        {
          "name":"stdout",
          "text":[
            "[[ 1  1 -1 -2  0]\n",
            " [ 0 -1  1  5 -2]\n",
            " [ 1  1 -3  1  4]]\n"
          ],
          "output_type":"stream"
        }
      ],
      "metadata":{
        
      }
    },
    {
      "cell_type":"code",
      "source":[
        "# из третьей строки вычтем первую\n",
        "A[2, :] -= A[0, :]\n",
        "print(A)"
      ],
      "execution_count":32,
      "outputs":[
        {
          "name":"stdout",
          "text":[
            "[[ 1  1 -1 -2  0]\n",
            " [ 0 -1  1  5 -2]\n",
            " [ 0  0 -2  3  4]]\n"
          ],
          "output_type":"stream"
        }
      ],
      "metadata":{
        
      }
    },
    {
      "cell_type":"code",
      "source":[
        "# обозначим x4 как с и выразим x3 из третьего уравнения\n",
        "# -2x3 +3c = 4 => -2x3 = 4-3c => x3 = 1.5c-2\n",
        "# из второго уравнения выразим x2 через x3 x4\n",
        "# -1x2 + 1.5c-2 + 5c = -2 => -1x2 +6.5c - 2 = -2 => -1x2 = -6.5c => x2 = 6.5c\n",
        "# из первого уравнения найдем x1\n",
        "# 1x1 + 6.5c - 1.5c+2 -2c = 0 => 1x1 +3c +2 =0 => x1=-3c-2\n",
        "# Решение уравнения\n",
        "# x4 = c; x3 = 1.5c-2; x2 = 6.5c; x1 = -3c-2\n",
        "# Найдем частное решение пр с = 2\n",
        "c =2 \n",
        "x1 = -3*c-2\n",
        "x2 = 6.5*c\n",
        "x3 = 1.5*c -2\n",
        "x4 = c\n",
        "print(x1, '\\t', x2, '\\t', x3, '\\t', x4,'\\t')"
      ],
      "execution_count":33,
      "outputs":[
        {
          "name":"stdout",
          "text":[
            "-8 \t 13.0 \t 1.0 \t 2 \t\n"
          ],
          "output_type":"stream"
        }
      ],
      "metadata":{
        
      }
    },
    {
      "cell_type":"code",
      "source":[
        "# Проверка: первое уравнение\n",
        "print(x1+x2-x3-2*x4 ==0) #  вывод должен быть Тrue"
      ],
      "execution_count":34,
      "outputs":[
        {
          "name":"stdout",
          "text":[
            "True\n"
          ],
          "output_type":"stream"
        }
      ],
      "metadata":{
        
      }
    },
    {
      "cell_type":"code",
      "source":[
        "print(2*x1+x2-x3+x4 == -2) #  второе уравнение"
      ],
      "execution_count":35,
      "outputs":[
        {
          "name":"stdout",
          "text":[
            "True\n"
          ],
          "output_type":"stream"
        }
      ],
      "metadata":{
        
      }
    },
    {
      "cell_type":"code",
      "source":[
        "print(x1+x2-3*x3+x4 == 4) # третье уравнение"
      ],
      "execution_count":36,
      "outputs":[
        {
          "name":"stdout",
          "text":[
            "True\n"
          ],
          "output_type":"stream"
        }
      ],
      "metadata":{
        
      }
    },
    {
      "cell_type":"markdown",
      "source":[
        "<h3> Задача2<\/h3>\n",
        "<p> Проверить на совместность и выяснить, сколько решений будет иметь система линейных уравнений:\n",
        "\n",
        "   а) $\\begin{cases}\n",
        "3x_{1}-x_{2}+x_{3}=4, \\\\\n",
        "2x_{1}-5x_{2}-3x_{3}=-17, \\\\\n",
        "x_{1}+x_{2}-x_{3}=0;\n",
        "\\end{cases}$\n",
        "    \n",
        "   б) $\\begin{cases}\n",
        "2x_{1}-4x_{2}+6x_{3}=1, \\\\\n",
        "x_{1}-2x_{2}+3x_{3}=-2, \\\\\n",
        "3x_{1}-6x_{2}+9x_{3}=5;\n",
        "\\end{cases}$\n",
        "    \n",
        "   в) $\\begin{cases}\n",
        "x_{1}+2x_{2}+5x_{3}=4, \\\\\n",
        "3x_{1}+x_{2}-8x_{3}=-2. \n",
        "\\end{cases}$<\/p>"
      ],
      "metadata":{
        
      }
    },
    {
      "cell_type":"code",
      "source":[
        "# a) Проверим на совместность сравнив ранги матрицы коэфиициентов и дополненной матрицы\n",
        "A1 = np.array([[3, -1, 1], [2, -5, -3], [1,1, -1]])\n",
        "B1 = np.array([4, -17, 0]).reshape((-1,1))\n",
        "AB = np.concatenate([A1,B1], axis=1)\n",
        "AB"
      ],
      "execution_count":37,
      "outputs":[
        {
          "data":{
            "text\/plain":[
              "array([[  3,  -1,   1,   4],\n",
              "       [  2,  -5,  -3, -17],\n",
              "       [  1,   1,  -1,   0]])"
            ]
          },
          "metadata":{
            
          },
          "output_type":"display_data"
        }
      ],
      "metadata":{
        
      }
    },
    {
      "cell_type":"code",
      "source":[
        "print(np.linalg.matrix_rank(A1))\n",
        "print(np.linalg.matrix_rank(AB))\n",
        "#Ранги матриц совпадают и равны числу неизвестныз, система совместна и имеет одно решение"
      ],
      "execution_count":38,
      "outputs":[
        {
          "name":"stdout",
          "text":[
            "3\n",
            "3\n"
          ],
          "output_type":"stream"
        }
      ],
      "metadata":{
        
      }
    },
    {
      "cell_type":"code",
      "source":[
        "# б) Проверим на совместность сравнив ранги матрицы коэфиициентов и дополненной матрицы\n",
        "A2 = np.array([[2, -4, 6], [1, -2, 3], [3,-6, 9]])\n",
        "B2 = np.array([1, -2, 5]).reshape((-1,1))\n",
        "AB2 = np.concatenate([A2,B2], axis=1)\n",
        "AB2"
      ],
      "execution_count":39,
      "outputs":[
        {
          "data":{
            "text\/plain":[
              "array([[ 2, -4,  6,  1],\n",
              "       [ 1, -2,  3, -2],\n",
              "       [ 3, -6,  9,  5]])"
            ]
          },
          "metadata":{
            
          },
          "output_type":"display_data"
        }
      ],
      "metadata":{
        
      }
    },
    {
      "cell_type":"code",
      "source":[
        "print(np.linalg.matrix_rank(A2))\n",
        "print(np.linalg.matrix_rank(AB2))\n",
        "# ранг дополненной матрицы больше матрицы коэффициентов и ранги меньше числа неизвестных - система несовместна, решений не имеется"
      ],
      "execution_count":40,
      "outputs":[
        {
          "name":"stdout",
          "text":[
            "1\n",
            "2\n"
          ],
          "output_type":"stream"
        }
      ],
      "metadata":{
        
      }
    },
    {
      "cell_type":"code",
      "source":[
        "# в) Проверим на совместность сравнив ранги матрицы коэфиициентов и дополненной матрицы\n",
        "A3 = np.array([[1, 2, 5], [3, 1, -8]])\n",
        "B3 = np.array([4, -2]).reshape((-1,1))\n",
        "AB3 = np.concatenate([A3,B3], axis=1)\n",
        "AB3"
      ],
      "execution_count":41,
      "outputs":[
        {
          "data":{
            "text\/plain":[
              "array([[ 1,  2,  5,  4],\n",
              "       [ 3,  1, -8, -2]])"
            ]
          },
          "metadata":{
            
          },
          "output_type":"display_data"
        }
      ],
      "metadata":{
        
      }
    },
    {
      "cell_type":"code",
      "source":[
        "print(np.linalg.matrix_rank(A3))\n",
        "print(np.linalg.matrix_rank(AB3))\n",
        "\n",
        "# Ранги матриц совпадают, но ранг меньше числа неизвестных - система недоопределена и имеет бесконечное число решений"
      ],
      "execution_count":42,
      "outputs":[
        {
          "name":"stdout",
          "text":[
            "2\n",
            "2\n"
          ],
          "output_type":"stream"
        }
      ],
      "metadata":{
        
      }
    },
    {
      "cell_type":"markdown",
      "source":[
        "\n",
        " <h3> Задача3<\/h3>\n",
        " <p> \n",
        " Проверить на совместность и выяснить, сколько решений будет иметь система линейных уравнений, заданная расширенной матрицей\n",
        "\n",
        "$$\\tilde{A}=\\begin{pmatrix}\n",
        "\\left.\\begin{matrix}\n",
        "1 & 3 & -2 & 4\\\\ \n",
        "0 & 5 & 0 & 1\\\\ \n",
        "0 & 0 & 3 & 0\\\\ \n",
        "0 & 0 & 0 & 2\n",
        "\\end{matrix}\\right|\n",
        "\\begin{matrix}\n",
        "3\\\\ \n",
        "2\\\\\n",
        "4\\\\\n",
        "1\n",
        "\\end{matrix}\n",
        "\\end{pmatrix}.$$\n",
        "\n",
        " <\/p>"
      ],
      "metadata":{
        
      }
    },
    {
      "cell_type":"code",
      "source":[
        "# найдем ранки матрицы коффициентов и расширенной матрицы\n",
        "A = np.array([[1, 3, -2, 4], [0, 5, 0, 1], [0, 0, 3, 0], [0 ,0 ,0, 2]])\n",
        "B = np.array([3, 2, 4, 1]).reshape((-1,1))\n",
        "AB = np.concatenate([A, B], axis =1)\n",
        "AB"
      ],
      "execution_count":43,
      "outputs":[
        {
          "data":{
            "text\/plain":[
              "array([[ 1,  3, -2,  4,  3],\n",
              "       [ 0,  5,  0,  1,  2],\n",
              "       [ 0,  0,  3,  0,  4],\n",
              "       [ 0,  0,  0,  2,  1]])"
            ]
          },
          "metadata":{
            
          },
          "output_type":"display_data"
        }
      ],
      "metadata":{
        
      }
    },
    {
      "cell_type":"code",
      "source":[
        "# Определим ранги матриц\n",
        "print(np.linalg.matrix_rank(A))\n",
        "print(np.linalg.matrix_rank(AB))"
      ],
      "execution_count":44,
      "outputs":[
        {
          "name":"stdout",
          "text":[
            "4\n",
            "4\n"
          ],
          "output_type":"stream"
        }
      ],
      "metadata":{
        
      }
    },
    {
      "cell_type":"code",
      "source":[
        "# ранги матриц совпадают и равны числу неизвестных, следовательно система имеет единственное решение\n",
        "print(np.linalg.solve(A, B).T) #  найдем вектор X"
      ],
      "execution_count":45,
      "outputs":[
        {
          "name":"stdout",
          "text":[
            "[[2.76666667 0.3        1.33333333 0.5       ]]\n"
          ],
          "output_type":"stream"
        }
      ],
      "metadata":{
        
      }
    },
    {
      "cell_type":"markdown",
      "source":[
        "<h3> Задача4<\/h3>\n",
        " <p> \n",
        " Дана система линейных уравнений, заданная расширенной матрицей\n",
        "\n",
        "$$\\tilde{A}=\\begin{pmatrix}\n",
        "\\left.\\begin{matrix}\n",
        "1 & 2 & 3\\\\ \n",
        "4 & 5 & 6\\\\ \n",
        "7 & 8 & 9\n",
        "\\end{matrix}\\right|\n",
        "\\begin{matrix}\n",
        "a\\\\ \n",
        "b\\\\\n",
        "c\n",
        "\\end{matrix}\n",
        "\\end{pmatrix}.$$\n",
        "\n",
        "Найти соотношение между параметрами $a$, $b$ и $c$, при которых система является несовместной.\n",
        " <\/p>"
      ],
      "metadata":{
        
      }
    },
    {
      "cell_type":"code",
      "source":[
        "# Решим систему Метод Гаусса\n",
        "#  1  2  3  | a    1  2  3 | a       1  2  3 | a                1  2  3 | a\n",
        "#  4  5  6  | b => 0 -3 -6 | b-4a => 0 -3 -6 | b-4a         =>  0 -3 -6 | b-4a\n",
        "#  7  8  9  | c    0 -6 -12| c-7a    0  0  0 | c-7a + 2b+8a     0  0  0 | c+a-2b\n",
        "#"
      ],
      "execution_count":46,
      "outputs":[
        
      ],
      "metadata":{
        
      }
    },
    {
      "cell_type":"code",
      "source":[
        "# Третья строка матрицы линейно зависима. Матрица коэффициентов имеет ранг 2, для того чтобы ранг рассширенной матрицы был равень 2\n",
        "# выражение a - 2b+c  должно быть равно нулю. \n",
        "# Таким образом система будет несовместна при соотношение a -2b+c  != 0 (не равных нулю)"
      ],
      "execution_count":47,
      "outputs":[
        
      ],
      "metadata":{
        
      }
    },
    {
      "cell_type":"code",
      "source":[
        "# выражение a -2b+c  == 0 система будет имет решение\n",
        "a = 3\n",
        "b = 1\n",
        "c = -1\n",
        "print('a -2b+c  = ',a-2*b+c)\n",
        "A = np.array([[1, 2, 3], [4, 5, 6], [7, 8, 9]])\n",
        "B = np.array([a,b,c]).reshape((-1,1))\n",
        "AB = np.concatenate([A, B], axis = 1)\n",
        "print(AB) "
      ],
      "execution_count":48,
      "outputs":[
        {
          "name":"stdout",
          "text":[
            "a -2b+c  =  0\n",
            "[[ 1  2  3  3]\n",
            " [ 4  5  6  1]\n",
            " [ 7  8  9 -1]]\n"
          ],
          "output_type":"stream"
        }
      ],
      "metadata":{
        
      }
    },
    {
      "cell_type":"code",
      "source":[
        "print(np.linalg.matrix_rank(A))\n",
        "print(np.linalg.matrix_rank(AB))"
      ],
      "execution_count":49,
      "outputs":[
        {
          "name":"stdout",
          "text":[
            "2\n",
            "2\n"
          ],
          "output_type":"stream"
        }
      ],
      "metadata":{
        
      }
    },
    {
      "cell_type":"code",
      "source":[
        "# выражение a -2b+c  != 0 система несовместна\n",
        "a = 3\n",
        "b = 1\n",
        "c = 0\n",
        "print('a -2b+c  = ',a-2*b+c)\n",
        "A = np.array([[1, 2, 3], [4, 5, 6], [7, 8, 9]])\n",
        "B = np.array([a,b,c]).reshape((-1,1))\n",
        "AB = np.concatenate([A, B], axis = 1)\n",
        "print(AB) "
      ],
      "execution_count":50,
      "outputs":[
        {
          "name":"stdout",
          "text":[
            "a -2b+c  =  1\n",
            "[[1 2 3 3]\n",
            " [4 5 6 1]\n",
            " [7 8 9 0]]\n"
          ],
          "output_type":"stream"
        }
      ],
      "metadata":{
        
      }
    },
    {
      "cell_type":"code",
      "source":[
        "print(np.linalg.matrix_rank(A))\n",
        "print(np.linalg.matrix_rank(AB))"
      ],
      "execution_count":51,
      "outputs":[
        {
          "name":"stdout",
          "text":[
            "2\n",
            "3\n"
          ],
          "output_type":"stream"
        }
      ],
      "metadata":{
        
      }
    },
    {
      "cell_type":"markdown",
      "source":[
        "<h2> Методичка 7<\/h2>\n",
        "<h3> Задача1<\/h3>\n",
        "<p> Решить систему уравнений методом Крамера:\n",
        "\n",
        "   а) $\\begin{cases}\n",
        "x_{1}-2x_{2}=1 \\\\\n",
        "3x_{1}-4x_{2}=7\n",
        "\\end{cases}$\n",
        "    \n",
        "   б) $\\begin{cases}\n",
        "2x_{1}-x_{2}+5x_{3}=10 \\\\\n",
        "x_{1}+x_{2}-3x_{3}=-2 \\\\\n",
        "2x_{1}+4x_{2}+x_{3}=1\n",
        "\\end{cases}$\n",
        "<\/p>"
      ],
      "metadata":{
        
      }
    },
    {
      "cell_type":"code",
      "source":[
        "# а) Определитель системы\n",
        "# -4 +6 = 2\n",
        "# определитель первого незвестного\n",
        "#  1  -2 => -4 + 14 = 10 \n",
        "#  7  -4 \n",
        "# определитель второго незвестного\n",
        "#  1  1  => 7 -3 = 4\n",
        "#  3  7\n",
        "# x1 = 10\/2 = 5\n",
        "# x2 = 4\/2 = 2\n",
        "\n",
        "#Проверка 5 -4 ==1\n",
        "#          3*5 - 4*2 == 7"
      ],
      "execution_count":52,
      "outputs":[
        
      ],
      "metadata":{
        
      }
    },
    {
      "cell_type":"code",
      "source":[
        "# АНалогично для второй системы исопльзуя numpy\n",
        "A7 = np.array([[2, -1, 5], [1, 1, -3], [2, 4, 1]])\n",
        "B7 = np.array([[10, -2, 1]])\n",
        "\n",
        "det0 = np.linalg.det(A7) # определитель матрицы коэффциентов\n",
        "A7_1 = np.copy(A7)\n",
        "A7_1[:,0] = B7 # заменяем первый столбец на вектор B\n",
        "det1 = np.linalg.det(A7_1) # определитель для первого незвестного\n",
        "print(A7_1, '\\n')\n",
        "\n",
        "A7_2 = np.copy(A7)\n",
        "A7_2[:,1] = B7 # заменяем второй столбец на вектор B\n",
        "det2 = np.linalg.det(A7_2) # определитель для второго незвестного\n",
        "print(A7_2, '\\n')\n",
        "\n",
        "A7_3 = np.copy(A7)\n",
        "A7_3[:,2] = B7 # заменяем третий столбец на вектор B\n",
        "det3 = np.linalg.det(A7_3) # определитель для третьего незвестного\n",
        "print(A7_3, '\\n')"
      ],
      "execution_count":53,
      "outputs":[
        {
          "name":"stdout",
          "text":[
            "[[10 -1  5]\n",
            " [-2  1 -3]\n",
            " [ 1  4  1]] \n",
            "\n",
            "[[ 2 10  5]\n",
            " [ 1 -2 -3]\n",
            " [ 2  1  1]] \n",
            "\n",
            "[[ 2 -1 10]\n",
            " [ 1  1 -2]\n",
            " [ 2  4  1]] \n",
            "\n"
          ],
          "output_type":"stream"
        }
      ],
      "metadata":{
        
      }
    },
    {
      "cell_type":"code",
      "source":[
        "# Надем вектор X\n",
        "X = np.array([0,0,0])\n",
        "X[0] = det1\/det0\n",
        "X[1] = det2\/det0\n",
        "X[2] = det3\/det0\n",
        "X = X.reshape((-1,1))\n",
        "print(X) # Корни уравнения"
      ],
      "execution_count":54,
      "outputs":[
        {
          "name":"stdout",
          "text":[
            "[[ 2]\n",
            " [-1]\n",
            " [ 1]]\n"
          ],
          "output_type":"stream"
        }
      ],
      "metadata":{
        
      }
    },
    {
      "cell_type":"code",
      "source":[
        "# Проверка A*X = b\n",
        "print(A7)\n",
        "print()\n",
        "print(np.dot(A7,X))"
      ],
      "execution_count":55,
      "outputs":[
        {
          "name":"stdout",
          "text":[
            "[[ 2 -1  5]\n",
            " [ 1  1 -3]\n",
            " [ 2  4  1]]\n",
            "\n",
            "[[10]\n",
            " [-2]\n",
            " [ 1]]\n"
          ],
          "output_type":"stream"
        }
      ],
      "metadata":{
        
      }
    }
  ],
  "metadata":{
    
  },
  "nbformat":4,
  "nbformat_minor":0
}