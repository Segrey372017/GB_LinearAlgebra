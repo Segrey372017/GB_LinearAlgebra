{
  "cells":[
    {
      "cell_type":"code",
      "source":[
        "import numpy as np"
      ],
      "execution_count":1,
      "outputs":[
        
      ],
      "metadata":{
        
      }
    },
    {
      "cell_type":"markdown",
      "source":[
        "<h2>  Методичка 8<\/h2>\n",
        "<h3> Задача1<\/h3>\n",
        "<p> Найти с помощью NumPy SVD для матрицы\n",
        "\n",
        "$$\\begin{pmatrix}\n",
        "1 & 2 & 0\\\\ \n",
        "0 & 0 & 5\\\\ \n",
        "3 & -4 & 2\\\\ \n",
        "1 & 6 & 5\\\\ \n",
        "0 & 1 & 0\n",
        "\\end{pmatrix}.$$\n",
        "\n",
        "\n",
        "2. Для матрицы из предыдущего задания найти:\n",
        "\n",
        "    а) евклидову норму;\n",
        "    \n",
        "    б) норму Фробениуса.\n",
        "<\/p>"
      ],
      "metadata":{
        
      }
    },
    {
      "cell_type":"code",
      "source":[
        "# Находим SVD для матрицы\n",
        "A = np.array([[1, 2, 0], [0, 0, 5], [3, -4, 2], [1, 6, 5], [0, 1, 0]])\n",
        "print(A)"
      ],
      "execution_count":2,
      "outputs":[
        {
          "name":"stdout",
          "text":[
            "[[ 1  2  0]\n",
            " [ 0  0  5]\n",
            " [ 3 -4  2]\n",
            " [ 1  6  5]\n",
            " [ 0  1  0]]\n"
          ],
          "output_type":"stream"
        }
      ],
      "metadata":{
        
      }
    },
    {
      "cell_type":"code",
      "source":[
        "U, s, W  = np.linalg.svd(A)"
      ],
      "execution_count":3,
      "outputs":[
        
      ],
      "metadata":{
        
      }
    },
    {
      "cell_type":"code",
      "source":[
        "print('U = ', U, '\\n', 's = ', s, '\\n', 'W = ', W)  # вывод результатов"
      ],
      "execution_count":5,
      "outputs":[
        {
          "name":"stdout",
          "text":[
            "U =  [[ 0.17056501  0.15680918 -0.53077508 -0.79905375 -0.16158397]\n",
            " [ 0.39287016 -0.52933945  0.6134793  -0.43375771  0.03082495]\n",
            " [-0.14366152 -0.82449256 -0.52379105  0.14049848  0.07400343]\n",
            " [ 0.88843702  0.06074346 -0.24655277  0.37755832 -0.06042632]\n",
            " [ 0.08125046  0.10831843 -0.08231425 -0.10524851  0.98173958]] \n",
            " s =  [8.82486885 6.14060608 2.53271528] \n",
            " W =  [[ 0.07116451  0.71702467  0.69340553]\n",
            " [-0.36737824  0.66514082 -0.65009301]\n",
            " [-0.92734505 -0.20847855  0.31075368]]\n"
          ],
          "output_type":"stream"
        }
      ],
      "metadata":{
        
      }
    },
    {
      "cell_type":"code",
      "source":[
        "# евклидова норма \n",
        "e_norm = np.linalg.norm(A)\n",
        "print('Евклидова норма матрицы ', e_norm)"
      ],
      "execution_count":7,
      "outputs":[
        {
          "name":"stdout",
          "text":[
            "Евклидова норма матрицы  11.045361017187261\n"
          ],
          "output_type":"stream"
        }
      ],
      "metadata":{
        
      }
    },
    {
      "cell_type":"code",
      "source":[
        "# Норма Фробениуса\n",
        "\n",
        "f_norm = np.linalg.norm(s) # получается евклидова норма от вектора сингулярных чисел\n",
        "print(\"Норма Фробениуса \", f_norm)"
      ],
      "execution_count":9,
      "outputs":[
        {
          "name":"stdout",
          "text":[
            "Норма Фробениуса  11.045361017187265\n"
          ],
          "output_type":"stream"
        }
      ],
      "metadata":{
        
      }
    },
    {
      "cell_type":"code",
      "source":[
        "# Как и ожидалось значения нормы матрицы оказались довольно близкими"
      ],
      "execution_count":0,
      "outputs":[
        
      ],
      "metadata":{
        
      }
    }
  ],
  "metadata":{
    
  },
  "nbformat":4,
  "nbformat_minor":0
}